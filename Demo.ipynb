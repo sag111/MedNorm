{
 "cells": [
  {
   "cell_type": "code",
   "execution_count": null,
   "id": "2caf05a9-b538-4aef-a948-501a4a634956",
   "metadata": {},
   "outputs": [],
   "source": [
    "!git lfs install"
   ]
  },
  {
   "cell_type": "code",
   "execution_count": null,
   "id": "6e7f3ffb-acd4-4e2b-b1da-e4a4aec20e23",
   "metadata": {},
   "outputs": [],
   "source": [
    "!git clone https://huggingface.co/sagteam/rubert-base-cased-mcn"
   ]
  },
  {
   "cell_type": "code",
   "execution_count": 1,
   "id": "91fc393d-5a3e-4129-a455-b42fb218d072",
   "metadata": {},
   "outputs": [],
   "source": [
    "from vectorization import ConceptVectorizer\n",
    "import json\n",
    "from tools.parse_RDRS import simple_parse_sagnlp_RDRS\n",
    "from dataset import SimpleMedNormDataset\n",
    "import torch\n",
    "from models import CADEC_SoTa\n",
    "from tqdm.notebook import tqdm\n",
    "from sklearn.metrics import f1_score\n",
    "import pandas as pd"
   ]
  },
  {
   "cell_type": "code",
   "execution_count": 2,
   "id": "82c5c7c7-62ca-4735-8cfb-db556c6af324",
   "metadata": {},
   "outputs": [],
   "source": [
    "USE_CUDA = torch.cuda.is_available()"
   ]
  },
  {
   "cell_type": "markdown",
   "id": "b1348203-4ca6-46d1-a5bf-dc0f5bc60552",
   "metadata": {},
   "source": [
    "<h2>Prepare data</h2>"
   ]
  },
  {
   "cell_type": "code",
   "execution_count": 3,
   "id": "943d1733-ebcf-4b1f-ab93-3afb9454f159",
   "metadata": {},
   "outputs": [],
   "source": [
    "with open('./rubert-base-cased-mcn/ConceptVectorizer/concept_to_idx.json', 'r') as map_f:\n",
    "    concept_to_idx = json.load(map_f)\n",
    "    idx_to_concept = {v:k for k,v in concept_to_idx.items()}\n",
    "    \n",
    "RDRS_df = pd.read_csv('./Data/Full_corps/RDRS.csv')\n",
    "RDRS_df = RDRS_df[(RDRS_df['tag']=='ADR')&(RDRS_df['fold id']==4)]\n",
    "test_phrases, test_concepts = RDRS_df['mention'].to_list(), RDRS_df['pt code'].apply(lambda x: str(x)).to_list()"
   ]
  },
  {
   "cell_type": "code",
   "execution_count": 4,
   "id": "3ab2fc91-b166-45c6-b3b6-b344754c21b7",
   "metadata": {},
   "outputs": [
    {
     "name": "stderr",
     "output_type": "stream",
     "text": [
      "Asking to truncate to max_length but no maximum length is provided and the model has no predefined maximum length. Default to no truncation.\n"
     ]
    }
   ],
   "source": [
    "ds_ts = SimpleMedNormDataset(test_phrases, test_concepts, 'sagteam/rubert-base-cased-mcn', concept_to_idx, use_cuda=USE_CUDA)\n",
    "tsloader = torch.utils.data.DataLoader(ds_ts, batch_size=1, shuffle=False)"
   ]
  },
  {
   "cell_type": "markdown",
   "id": "5e18a7ac-d4cf-469d-9f09-15f63cb2194c",
   "metadata": {},
   "source": [
    "<h2>Evaluate model on 4 RDRS fold, ADR subpart</h2>"
   ]
  },
  {
   "cell_type": "code",
   "execution_count": 5,
   "id": "ae027309-a130-4a4a-915f-6092e3295405",
   "metadata": {},
   "outputs": [
    {
     "data": {
      "application/vnd.jupyter.widget-view+json": {
       "model_id": "56845ed8ac494e65a312ebdc215fbd2e",
       "version_major": 2,
       "version_minor": 0
      },
      "text/plain": [
       "  0%|          | 0/984 [00:00<?, ?it/s]"
      ]
     },
     "metadata": {},
     "output_type": "display_data"
    }
   ],
   "source": [
    "meddra_thesaurus_embeddings_path = './rubert-base-cased-mcn/ConceptVectorizer/thesaurus_embeddings_meddra_origin.pt'\n",
    "if not USE_CUDA:\n",
    "    thesaurus_embeddings = torch.load(meddra_thesaurus_embeddings_path, map_location=torch.device('cpu'))\n",
    "else:\n",
    "    thesaurus_embeddings = torch.load(meddra_thesaurus_embeddings_path, './rubert-base-cased-mcn/thesaurus_embeddings_meddra_origin.pt')\n",
    "net = CADEC_SoTa('./rubert-base-cased-mcn', thesaurus_embeddings)\n",
    "device = 'cpu' if not USE_CUDA else 'cuda'\n",
    "net.to(device)\n",
    "net.eval()\n",
    "model_answers = []\n",
    "real_codes = []\n",
    "for data in tqdm(tsloader):\n",
    "    inputs = data['tokenized_phrases']\n",
    "    with torch.no_grad():\n",
    "        outputs_dict = net(inputs)\n",
    "        pred_meddra_code = idx_to_concept[int(outputs_dict['output'].argmax())]\n",
    "    model_answers.append(pred_meddra_code)\n",
    "    real_codes.extend(data['label_codes'])"
   ]
  },
  {
   "cell_type": "code",
   "execution_count": 6,
   "id": "19dc0dc3-cbac-4dde-8304-1f958b8839f7",
   "metadata": {},
   "outputs": [
    {
     "name": "stdout",
     "output_type": "stream",
     "text": [
      "f1-micro: 0.7134146341463414\n"
     ]
    }
   ],
   "source": [
    "print(f\"f1-micro: {f1_score(real_codes, model_answers, average='micro')}\")"
   ]
  }
 ],
 "metadata": {
  "kernelspec": {
   "display_name": "Python 3 (ipykernel)",
   "language": "python",
   "name": "python3"
  },
  "language_info": {
   "codemirror_mode": {
    "name": "ipython",
    "version": 3
   },
   "file_extension": ".py",
   "mimetype": "text/x-python",
   "name": "python",
   "nbconvert_exporter": "python",
   "pygments_lexer": "ipython3",
   "version": "3.9.12"
  }
 },
 "nbformat": 4,
 "nbformat_minor": 5
}
